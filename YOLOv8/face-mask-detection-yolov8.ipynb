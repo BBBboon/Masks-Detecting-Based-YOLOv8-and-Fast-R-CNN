{
 "cells": [
  {
   "cell_type": "markdown",
   "metadata": {
    "id": "MH97tWNYvT21"
   },
   "source": [
    "# Imports"
   ]
  },
  {
   "cell_type": "code",
   "execution_count": null,
   "outputs": [],
   "source": [
    "import numpy as np\n",
    "import pandas as pd\n",
    "import os\n",
    "import random\n",
    "import shutil\n",
    "import glob\n",
    "import yaml\n",
    "import torch\n",
    "import matplotlib.pyplot as plt\n",
    "import xml.etree.ElementTree as ET\n",
    "import cv2\n",
    "\n",
    "from PIL import Image\n",
    "from matplotlib import pyplot as plt\n",
    "from matplotlib import patches\n",
    "from pathlib import Path\n",
    "from sklearn.model_selection import train_test_split"
   ],
   "metadata": {
    "collapsed": false,
    "pycharm": {
     "name": "#%%\n"
    }
   }
  },
  {
   "cell_type": "markdown",
   "source": [
    "# Install YOLOv8"
   ],
   "metadata": {
    "collapsed": false,
    "pycharm": {
     "name": "#%% md\n"
    }
   }
  },
  {
   "cell_type": "code",
   "execution_count": null,
   "outputs": [],
   "source": [
    "%pip install ultralytics"
   ],
   "metadata": {
    "collapsed": false,
    "pycharm": {
     "name": "#%%\n"
    }
   }
  },
  {
   "cell_type": "code",
   "execution_count": null,
   "outputs": [],
   "source": [
    "import ultralytics #提供了多种计算机视觉工具和深度学习模型，如YOLOv5目标检测模型、图像分类模型等，可用于图像处理和深度学习任务\n",
    "from ultralytics import YOLO\n",
    "ultralytics.checks()"
   ],
   "metadata": {
    "collapsed": false,
    "pycharm": {
     "name": "#%%\n"
    }
   }
  },
  {
   "cell_type": "markdown",
   "source": [
    "# Create Directory"
   ],
   "metadata": {
    "collapsed": false,
    "pycharm": {
     "name": "#%% md\n"
    }
   }
  },
  {
   "cell_type": "code",
   "execution_count": null,
   "outputs": [],
   "source": [
    "from pathlib import Path\n",
    "\n",
    "directory = \"archive\"\n",
    "image_directory = directory + \"/images\"\n",
    "annotation_directory = directory + \"/annotations\"\n",
    "\n",
    "\"\"\"\n",
    "Path(annotation_directory) 创建了一个Path对象，表示annotation_directory变量所指定的目录。\n",
    "\n",
    ".glob('**/*.xml') 是Path对象上的方法调用，它返回一个生成器，该生成器会产生所有匹配指定模式的文件\n",
    "（在此处，即所有扩展名为.xml的文件）。\n",
    "\n",
    "list() 将生成器转换为一个Path对象的列表，并将其存储在annotations变量中。\n",
    "\"\"\"\n",
    "annotations = list(Path(annotation_directory).glob('**/*.xml'))\n",
    "print(\"存储文件路径，如\", annotations[0])\n",
    "print(len(annotations))"
   ],
   "metadata": {
    "collapsed": false,
    "pycharm": {
     "name": "#%%\n"
    }
   }
  },
  {
   "cell_type": "markdown",
   "source": [
    "# Data Preprocessing"
   ],
   "metadata": {
    "collapsed": false,
    "pycharm": {
     "name": "#%% md\n"
    }
   }
  },
  {
   "cell_type": "code",
   "execution_count": null,
   "outputs": [],
   "source": [
    "\"\"\"\n",
    "把xml文件中对图片的描述转成 dataframe 的形式\n",
    "\"\"\"\n",
    "class_id = {\n",
    "    \"with_mask\" : 0,\n",
    "    \"mask_weared_incorrect\" : 1,\n",
    "    \"without_mask\" : 2\n",
    "}\n",
    "\n",
    "data_dict = {\n",
    "    'filename': [],\n",
    "    'label': [],\n",
    "    'class_id': [],\n",
    "    'width': [],\n",
    "    'height': [],\n",
    "    'bboxes': []\n",
    "}\n",
    "for annotation_path in annotations:\n",
    "    tree = ET.parse(annotation_path) # 用于解析一个XML文件并返回一个ElementTree对象，该对象表示整个XML文档的树形结构\n",
    "    root = tree.getroot() # 获取XML根节点\n",
    "    filename = root.find('filename').text # 提取 root ElementTree对象中第一个出现的 \"filename\" 元素的文本内容\n",
    "    for obj in root.findall(\"object\"):\n",
    "        label = obj.find(\"name\").text\n",
    "        \n",
    "        bbox = []\n",
    "        # bndbox has xmin, ymin, xmax, ymax\n",
    "        bndbox_tree = obj.find('bndbox')\n",
    "        bbox.append(int(bndbox_tree.find('xmin').text))\n",
    "        bbox.append(int(bndbox_tree.find('ymin').text))\n",
    "        bbox.append(int(bndbox_tree.find('xmax').text))\n",
    "        bbox.append(int(bndbox_tree.find('ymax').text))\n",
    "        size = root.find('size')\n",
    "        \n",
    "        data_dict['filename'].append(filename)\n",
    "        data_dict['width'].append(int(size.find('width').text))\n",
    "        data_dict['height'].append(int(size.find('height').text))\n",
    "        data_dict['label'].append(label)\n",
    "        data_dict['class_id'].append(class_id[label])\n",
    "        data_dict['bboxes'].append(bbox)\n",
    "\n",
    "df_data = pd.DataFrame(data_dict)\n",
    "\n",
    "df_data.head()"
   ],
   "metadata": {
    "collapsed": false,
    "pycharm": {
     "name": "#%%\n"
    }
   }
  },
  {
   "cell_type": "code",
   "execution_count": null,
   "outputs": [],
   "source": [
    "df_data.isna().sum() # calculate the number of missing values (NaN)"
   ],
   "metadata": {
    "collapsed": false,
    "pycharm": {
     "name": "#%%\n"
    }
   }
  },
  {
   "cell_type": "code",
   "execution_count": null,
   "outputs": [],
   "source": [
    "df_data.info()"
   ],
   "metadata": {
    "collapsed": false,
    "pycharm": {
     "name": "#%%\n"
    }
   }
  },
  {
   "cell_type": "code",
   "execution_count": null,
   "outputs": [],
   "source": [
    "df_data.label.unique() # three labels"
   ],
   "metadata": {
    "collapsed": false,
    "pycharm": {
     "name": "#%%\n"
    }
   }
  },
  {
   "cell_type": "code",
   "execution_count": null,
   "outputs": [],
   "source": [
    "print(f\"Total 'without_mask' labels: {sum(df_data.label == 'without_mask')}\")\n",
    "print(f\"Total 'mask_weared_incorrect' labels: {sum(df_data.label == 'mask_weared_incorrect')}\")\n",
    "print(f\"Total 'with_mask' labels: {sum(df_data.label == 'with_mask')}\")"
   ],
   "metadata": {
    "collapsed": false,
    "pycharm": {
     "name": "#%%\n"
    }
   }
  },
  {
   "cell_type": "code",
   "execution_count": null,
   "outputs": [],
   "source": [
    "#!pip install matplotlib Pillow"
   ],
   "metadata": {
    "collapsed": false,
    "pycharm": {
     "name": "#%%\n"
    }
   }
  },
  {
   "cell_type": "markdown",
   "source": [
    "# Visualize Data"
   ],
   "metadata": {
    "collapsed": false,
    "pycharm": {
     "name": "#%% md\n"
    }
   }
  },
  {
   "cell_type": "code",
   "execution_count": null,
   "outputs": [],
   "source": [
    "def show_random_images_with_bbox(df):\n",
    "    all_images = os.listdir(image_directory)\n",
    "    random_image_filename = random.sample(all_images, 4) # 在所有照片中随机取4张\n",
    "    fig, ax = plt.subplots(nrows=2, ncols=2, figsize=(10, 10)) # 创建一块画布，2*2个子图\n",
    "    for i, filename in enumerate(random_image_filename): # 将一个可遍历的数据对象(如列表、元组或字符串)组合为一个索引序列，同时列出数据和数据下标\n",
    "        selected_df = df[df['filename'] == filename]\n",
    "        #print(selected_df)\n",
    "        \n",
    "        image = Image.open(image_directory + '/' + filename)\n",
    "        \n",
    "        ax.flat[i].imshow(image) # 显示图片\n",
    "        ax.flat[i].axis(False) # 坐标轴\n",
    "        \n",
    "        image_bboxes = []\n",
    "        for df_index in range(0, len(selected_df)):\n",
    "            color = \"g\"\n",
    "            if selected_df.iloc[df_index].class_id == 1: color = \"y\"\n",
    "            elif selected_df.iloc[df_index].class_id == 2: color = \"r\"\n",
    "            \n",
    "            x_min, y_min, x_max, y_max = selected_df.iloc[df_index].bboxes\n",
    "            \n",
    "            rect = patches.Rectangle([x_min, y_min], x_max-x_min, y_max-y_min, \n",
    "                             linewidth=2, edgecolor=color, facecolor=\"none\") # 画矩形\n",
    "            ax.flat[i].add_patch(rect) # 添加在图片上\n",
    "            \n",
    "show_random_images_with_bbox(df_data)"
   ],
   "metadata": {
    "collapsed": false,
    "pycharm": {
     "name": "#%%\n"
    }
   }
  },
  {
   "cell_type": "code",
   "execution_count": null,
   "outputs": [],
   "source": [
    "show_random_images_with_bbox(df_data)"
   ],
   "metadata": {
    "collapsed": false,
    "pycharm": {
     "name": "#%%\n"
    }
   }
  },
  {
   "cell_type": "code",
   "execution_count": null,
   "outputs": [],
   "source": [
    "# we need to convert our bbox format to yolo as the current one that we have is on pascal_voc\n",
    "def pascal_voc_to_yolo_bbox(bbox_array, w, h):\n",
    "    x_min, y_min, x_max, y_max = bbox_array\n",
    "    \n",
    "    x_center = ((x_max + x_min) / 2) / w\n",
    "    y_center = ((y_max + y_min) / 2) / h\n",
    "    \n",
    "    width = (x_max - x_min) / w\n",
    "    height = (y_max - y_min) / h\n",
    "    \n",
    "    return [x_center, y_center, width, height]"
   ],
   "metadata": {
    "collapsed": false,
    "pycharm": {
     "name": "#%%\n"
    }
   }
  },
  {
   "cell_type": "markdown",
   "source": [
    "# Split Train, Val, Test images"
   ],
   "metadata": {
    "collapsed": false,
    "pycharm": {
     "name": "#%% md\n"
    }
   }
  },
  {
   "cell_type": "markdown",
   "source": [
    "Create our directory to place our images"
   ],
   "metadata": {
    "collapsed": false,
    "pycharm": {
     "name": "#%% md\n"
    }
   }
  },
  {
   "cell_type": "code",
   "execution_count": null,
   "outputs": [],
   "source": [
    "train_path = \"YOLOv8/working/datasets/train\"\n",
    "valid_path = \"YOLOv8/working/datasets/valid\"\n",
    "test_path = \"YOLOv8/working/datasets/test\"\n",
    "\n",
    "!os.mkdir(\"YOLOv8/working/datasets\")\n",
    "!os.mkdir(train_path)\n",
    "!os.mkdir(valid_path)\n",
    "!os.mkdir(test_path)"
   ],
   "metadata": {
    "collapsed": false,
    "pycharm": {
     "name": "#%%\n"
    }
   }
  },
  {
   "cell_type": "markdown",
   "source": [
    "We need to move our respective images to its folder and create label file for our image to use in YOLOv8"
   ],
   "metadata": {
    "collapsed": false,
    "pycharm": {
     "name": "#%% md\n"
    }
   }
  },
  {
   "cell_type": "code",
   "execution_count": null,
   "outputs": [],
   "source": [
    "train, test = train_test_split(df_data.filename.unique(), test_size=0.2, random_state=23) # 划分训练集，测试集\n",
    "train, valid = train_test_split(train, test_size=0.15, random_state=23) # 在训练集上划分训练和验证集\n",
    "\n",
    "def copy_image_file(image_items, folder_name):\n",
    "    \"\"\"把相应的照片复制到对应的目录\"\"\"\n",
    "    for image in image_items:\n",
    "            image_path = image_directory + \"/\" + image\n",
    "            new_image_path = os.path.join(folder_name, image)\n",
    "            shutil.copy(image_path, new_image_path)\n",
    "\n",
    "def create_label_file(image_items, folder_name):\n",
    "    \"\"\"为每张照片制作txt文件写入标签和位置信息\"\"\"\n",
    "    for image in image_items:\n",
    "        fileName = Path(image).stem # 文件名\n",
    "        df = df_data[df_data['filename'] == image]\n",
    "        with open(folder_name + \"/\" + fileName +'.txt', 'w') as f:\n",
    "            for i in range(0, len(df)):\n",
    "                bbox = pascal_voc_to_yolo_bbox(df.iloc[i]['bboxes'], df.iloc[i]['width'], df.iloc[i]['height'])\n",
    "                bbox_text = \" \".join(map(str, bbox))\n",
    "                txt = str(df.iloc[i]['class_id'])+ \" \" + bbox_text\n",
    "                f.write(txt)\n",
    "                if i != len(df) - 1:\n",
    "                    f.write(\"\\n\")\n",
    "                \n",
    "\n",
    "copy_image_file(train, train_path)\n",
    "copy_image_file(valid, valid_path)\n",
    "copy_image_file(test, test_path)\n",
    "\n",
    "create_label_file(train, train_path)\n",
    "create_label_file(valid, valid_path)\n",
    "create_label_file(test, test_path)"
   ],
   "metadata": {
    "collapsed": false,
    "pycharm": {
     "name": "#%%\n"
    }
   }
  },
  {
   "cell_type": "code",
   "execution_count": null,
   "outputs": [],
   "source": [
    "def walk_through_dir(filepath):\n",
    "    \"\"\"\n",
    "    遍历指定目录并打印每个子目录中包含的子目录和以\".png\"为扩展名的图像文件的数量\n",
    "    \"\"\"\n",
    "    for dirpath, dirnames, filenames in os.walk(filepath):\n",
    "        print(f\"There are {len(dirnames)} directories and {len(glob.glob(filepath + '/*.png', recursive = True))} images in '{dirpath}'.\")\n",
    "    \n",
    "walk_through_dir(train_path)\n",
    "walk_through_dir(valid_path)  \n",
    "walk_through_dir(test_path)  "
   ],
   "metadata": {
    "collapsed": false,
    "pycharm": {
     "name": "#%%\n"
    }
   }
  },
  {
   "cell_type": "markdown",
   "source": [
    "# Create YAML file"
   ],
   "metadata": {
    "collapsed": false,
    "pycharm": {
     "name": "#%% md\n"
    }
   }
  },
  {
   "cell_type": "code",
   "execution_count": null,
   "outputs": [],
   "source": [
    "classes = list(df_data.label.unique())\n",
    "class_count = len(classes)\n",
    "facemask_yaml = f\"\"\"\n",
    "    train: train\n",
    "    val: valid\n",
    "    test: test\n",
    "    nc: {class_count}\n",
    "    names:\n",
    "        0 : with_mask\n",
    "        1 : mask_weared_incorrect\n",
    "        2 : without_mask\n",
    "    \"\"\"\n",
    "\n",
    "with open('YOLOv8/working/datasets/facemask.yaml', 'w') as f:\n",
    "    f.write(facemask_yaml)\n",
    "\n",
    "%cat 'YOLOv8/working/datasets/facemask.yaml'"
   ],
   "metadata": {
    "collapsed": false,
    "pycharm": {
     "name": "#%%\n"
    }
   }
  },
  {
   "cell_type": "markdown",
   "source": [
    "# Train"
   ],
   "metadata": {
    "collapsed": false,
    "pycharm": {
     "name": "#%% md\n"
    }
   }
  },
  {
   "cell_type": "code",
   "execution_count": null,
   "outputs": [],
   "source": [
    "model = YOLO(\"YOLOv8/working/datasets/yolov8n.pt\")\n",
    "# facemask.yaml 是一个数据集的配置文件（configuration file），用于指定训练、验证和测试数据集的路径以及一些其他参数\n",
    "model.train(data=\"YOLOv8/working/datasets/facemask.yaml\", epochs=50) # 训练"
   ],
   "metadata": {
    "collapsed": false,
    "pycharm": {
     "name": "#%%\n"
    }
   }
  },
  {
   "cell_type": "code",
   "execution_count": null,
   "outputs": [],
   "source": [
    "model.val(data=\"YOLOv8/working/datasets/facemask.yaml\") # 验证"
   ],
   "metadata": {
    "collapsed": false,
    "pycharm": {
     "name": "#%%\n"
    }
   }
  },
  {
   "cell_type": "markdown",
   "source": [
    "# Validation"
   ],
   "metadata": {
    "collapsed": false,
    "pycharm": {
     "name": "#%% md\n"
    }
   }
  },
  {
   "cell_type": "code",
   "execution_count": null,
   "outputs": [],
   "source": [
    "confusion_matrix = Image.open(\"YOLOv8/working/runs/detect/train/confusion_matrix.png\")\n",
    "plt.figure(figsize=(20,10))\n",
    "plt.imshow(confusion_matrix)\n",
    "plt.axis(False)\n",
    "plt.show()"
   ],
   "metadata": {
    "collapsed": false,
    "pycharm": {
     "name": "#%%\n"
    }
   }
  },
  {
   "cell_type": "code",
   "execution_count": null,
   "outputs": [],
   "source": [
    "val_label = Image.open(\"YOLOv8/working/runs/detect/train/val_batch0_labels.jpg\")\n",
    "val_pred = Image.open(\"YOLOv8/working/runs/detect/train/val_batch0_pred.jpg\")\n",
    "\n",
    "plt.figure(figsize=(20,10))\n",
    "plt.imshow(val_label)\n",
    "plt.title(\"Label\")\n",
    "plt.axis(False)\n",
    "plt.show()\n",
    "\n",
    "plt.figure(figsize=(20,10))\n",
    "plt.imshow(val_pred)\n",
    "plt.title(\"Prediction\")\n",
    "plt.axis(False)\n",
    "plt.show()"
   ],
   "metadata": {
    "collapsed": false,
    "pycharm": {
     "name": "#%%\n"
    }
   }
  },
  {
   "cell_type": "markdown",
   "source": [
    "# Predict"
   ],
   "metadata": {
    "collapsed": false,
    "pycharm": {
     "name": "#%% md\n"
    }
   }
  },
  {
   "cell_type": "code",
   "execution_count": null,
   "outputs": [],
   "source": [
    "# 这个权重文件通常是在之前的训练过程中得到的，包含了模型的各个参数和参数的初始值。\n",
    "model = YOLO(model=\"YOLOv8/working/runs/detect/train/weights/best.pt\") # 将预训练的权重文件加载到模型中"
   ],
   "metadata": {
    "collapsed": false,
    "pycharm": {
     "name": "#%%\n"
    }
   }
  },
  {
   "cell_type": "code",
   "execution_count": null,
   "metadata": {
    "id": "JP8EXxIYvT2_"
   },
   "outputs": [],
   "source": [
    "val_label = Image.open(\"/content/drive/MyDrive/Colab Notebooks/564 DL/working/runs/detect/train/val_batch0_labels.jpg\")\n",
    "val_pred = Image.open(\"/content/drive/MyDrive/Colab Notebooks/564 DL/working/runs/detect/train/val_batch0_pred.jpg\")\n",
    "\n",
    "plt.figure(figsize=(20,10))\n",
    "plt.imshow(val_label)\n",
    "plt.title(\"Label\")\n",
    "plt.axis(False)\n",
    "plt.show()\n",
    "\n",
    "plt.figure(figsize=(20,10))\n",
    "plt.imshow(val_pred)\n",
    "plt.title(\"Prediction\")\n",
    "plt.axis(False)\n",
    "plt.show()"
   ]
  },
  {
   "cell_type": "code",
   "metadata": {
    "id": "LOK3dN9HvT2_",
    "pycharm": {
     "name": "#%%\n"
    }
   },
   "source": [
    "predicted_image = Image.open(\"YOLOv8/working/runs/detect/predict/image0.jpg\")\n",
    "plt.figure(figsize=(10,10))\n",
    "plt.imshow(predicted_image)\n",
    "plt.title(\"Prediction\")\n",
    "plt.axis(False)\n",
    "plt.show()\n",
    "\n",
    "predicted_image = Image.open(\"YOLOv8/working/runs/detect/predict/image1.jpg\")\n",
    "plt.figure(figsize=(10,10))\n",
    "plt.imshow(predicted_image)\n",
    "plt.title(\"Prediction\")\n",
    "plt.axis(False)\n",
    "plt.show()"
   ],
   "execution_count": null,
   "outputs": []
  },
  {
   "cell_type": "markdown",
   "source": [
    "Cross Validation"
   ],
   "metadata": {
    "collapsed": false,
    "pycharm": {
     "name": "#%% md\n"
    }
   }
  },
  {
   "cell_type": "code",
   "execution_count": null,
   "outputs": [],
   "source": [
    "from sklearn.model_selection import KFold\n",
    "\n",
    "# K 折交叉验证\n",
    "kfold2 = KFold(n_splits=3, shuffle=True, random_state=23)\n",
    "\n",
    "# 获取文件名列表\n",
    "file_list = df_data.filename.unique()\n",
    "\n",
    "for fold, (train_index, test_index) in enumerate(kfold2.split(file_list)):\n",
    "    # 划分训练集和测试集\n",
    "    train_files = file_list[train_index]\n",
    "    test_files = file_list[test_index]\n",
    "    # 在训练集上划分训练集和验证集\n",
    "    train_index, valid_index = train_test_split(train_index, test_size=0.15, random_state=23)\n",
    "    train_files = file_list[train_index]\n",
    "    valid_files = file_list[valid_index]\n",
    "\n",
    "    # 创建文件夹\n",
    "    train_path = f\"YOLOv8/kfold2/train{fold}\"\n",
    "    valid_path = f\"YOLOv8/kfold2/valid{fold}\"\n",
    "    test_path = f\"YOLOv8/kfold2/test{fold}\"\n",
    "    os.makedirs(train_path, exist_ok=True)\n",
    "    os.makedirs(valid_path, exist_ok=True)\n",
    "    os.makedirs(test_path, exist_ok=True)\n",
    "\n",
    "    # 复制图像文件到对应文件夹\n",
    "    copy_image_file(train_files, train_path)\n",
    "    copy_image_file(valid_files, valid_path)\n",
    "    copy_image_file(test_files, test_path)\n",
    "\n",
    "    # 生成标签文件\n",
    "    create_label_file(train_files, train_path)\n",
    "    create_label_file(valid_files, valid_path)\n",
    "    create_label_file(test_files, test_path)\n",
    "\n",
    "    # 创建配置文件\n",
    "    classes = list(df_data.label.unique())\n",
    "    class_count = len(classes)\n",
    "    facemask_yaml = f\"\"\"\n",
    "        train: {train_path}\n",
    "        val: {valid_path}\n",
    "        test: {test_path}\n",
    "        nc: {class_count}\n",
    "        names:\n",
    "            0 : with_mask\n",
    "            1 : mask_weared_incorrect\n",
    "            2 : without_mask\n",
    "        \"\"\"\n",
    "\n",
    "    with open(f'YOLOv8/kfold2/facemask{fold}.yaml', 'w') as f:\n",
    "        f.write(facemask_yaml)\n",
    "\n",
    "\n",
    "    # 训练模型并记录日志\n",
    "    model = YOLO(\"YOLOv8/working/datasets/yolov8n.pt\")\n",
    "    model.train(data=f\"YOLOv8/kfold2/facemask{fold}.yaml\", epochs=50)"
   ],
   "metadata": {
    "collapsed": false,
    "pycharm": {
     "name": "#%%\n"
    }
   }
  },
  {
   "cell_type": "code",
   "execution_count": null,
   "metadata": {
    "id": "Tpz60SqivT2_"
   },
   "outputs": [],
   "source": [
    "# 这个权重文件通常是在之前的训练过程中得到的，包含了模型的各个参数和参数的初始值。\n",
    "model = YOLO(model=\"/content/drive/MyDrive/Colab Notebooks/564 DL/working/runs/detect/train/weights/best.pt\") # 将预训练的权重文件加载到模型中"
   ]
  },
  {
   "cell_type": "code",
   "execution_count": null,
   "metadata": {
    "collapsed": true,
    "id": "eOTAaoMZvT2_"
   },
   "outputs": [],
   "source": [
    "filenames = glob.glob(test_path+\"/*.png\", recursive=False)\n",
    "test_image1 = cv2.imread(filenames[0])\n",
    "test_image2 = cv2.imread(filenames[1])\n",
    "\n",
    "results = model.predict([test_image1, test_image2], save=True, line_thickness=1)"
   ]
  },
  {
   "cell_type": "code",
   "execution_count": null,
   "metadata": {
    "id": "YT-1_BMlvT2_"
   },
   "outputs": [],
   "source": [
    "predicted_image = Image.open(\"runs/detect/predict/image0.jpg\")\n",
    "plt.figure(figsize=(10,10))\n",
    "plt.imshow(predicted_image)\n",
    "plt.title(\"Prediction\")\n",
    "plt.axis(False)\n",
    "plt.show()\n",
    "\n",
    "predicted_image = Image.open(\"runs/detect/predict/image1.jpg\")\n",
    "plt.figure(figsize=(10,10))\n",
    "plt.imshow(predicted_image)\n",
    "plt.title(\"Prediction\")\n",
    "plt.axis(False)\n",
    "plt.show()"
   ]
  }
 ],
 "metadata": {
  "accelerator": "GPU",
  "colab": {
   "provenance": []
  },
  "gpuClass": "standard",
  "kernelspec": {
   "display_name": "Python 3",
   "language": "python",
   "name": "python3"
  },
  "language_info": {
   "codemirror_mode": {
    "name": "ipython",
    "version": 3
   },
   "file_extension": ".py",
   "mimetype": "text/x-python",
   "name": "python",
   "nbconvert_exporter": "python",
   "pygments_lexer": "ipython3",
   "version": "3.7.12"
  }
 },
 "nbformat": 4,
 "nbformat_minor": 0
}